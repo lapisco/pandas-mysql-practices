{
 "cells": [
  {
   "cell_type": "markdown",
   "metadata": {},
   "source": [
    "# Conecta com o BD"
   ]
  },
  {
   "cell_type": "code",
   "execution_count": null,
   "metadata": {},
   "outputs": [],
   "source": [
    "import mysql.connector\n",
    "\n",
    "con = mysql.connector.connect(\n",
    "    user='root', password='superuser',\n",
    "    host='localhost',\n",
    "    database='locadora')\n",
    "\n"
   ]
  },
  {
   "cell_type": "markdown",
   "metadata": {},
   "source": [
    "# Insere valores no BD"
   ]
  },
  {
   "cell_type": "code",
   "execution_count": null,
   "metadata": {},
   "outputs": [],
   "source": [
    "from datetime import date\n",
    "\n",
    "cursor = con.cursor()\n",
    "\n",
    "add_cliente = (\"INSERT INTO cliente (cpf_cli, nome_cli, cidade_cli, data_cadastro)\"\n",
    "               \"VALUES (%s, %s, %s, %s)\")\n",
    "\n",
    "data_cliente = ('04359978245', 'Diego', 'Fortaleza', date(1992, 1, 16))\n",
    "\n",
    "# Insere novo cliente\n",
    "cursor.execute(add_cliente, data_cliente)\n",
    "cliente_no = cursor.lastrowid\n",
    "\n",
    "print(cliente_no)\n",
    "\n",
    "con.commit()\n",
    "\n",
    "cursor.close()"
   ]
  },
  {
   "cell_type": "markdown",
   "metadata": {},
   "source": [
    "# Recupera valores do BD"
   ]
  },
  {
   "cell_type": "code",
   "execution_count": null,
   "metadata": {},
   "outputs": [],
   "source": [
    "import datetime\n",
    "\n",
    "cursor = con.cursor()\n",
    "\n",
    "query = (\"SELECT nome_cli, cpf_cli FROM cliente WHERE cidade_cli LIKE %s\")\n",
    "\n",
    "cursor.execute(query, (\"For%\",) )\n",
    "\n",
    "for (nome_cli, cpf_cli) in cursor:\n",
    "    print(\"{}, {}\".format(nome_cli, cpf_cli))\n",
    "\n",
    "cursor.close()\n"
   ]
  },
  {
   "cell_type": "code",
   "execution_count": null,
   "metadata": {},
   "outputs": [],
   "source": [
    "con.close()"
   ]
  }
 ],
 "metadata": {
  "kernelspec": {
   "display_name": "env_data",
   "language": "python",
   "name": ".env"
  },
  "language_info": {
   "codemirror_mode": {
    "name": "ipython",
    "version": 3
   },
   "file_extension": ".py",
   "mimetype": "text/x-python",
   "name": "python",
   "nbconvert_exporter": "python",
   "pygments_lexer": "ipython3",
   "version": "3.7.3"
  }
 },
 "nbformat": 4,
 "nbformat_minor": 4
}
